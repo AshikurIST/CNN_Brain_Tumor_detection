{
 "cells": [
  {
   "cell_type": "code",
   "execution_count": 14,
   "id": "ed55ebfd",
   "metadata": {},
   "outputs": [],
   "source": [
    "# !pip install torch\n"
   ]
  },
  {
   "cell_type": "code",
   "execution_count": 11,
   "id": "43c766fa",
   "metadata": {},
   "outputs": [
    {
     "name": "stdout",
     "output_type": "stream",
     "text": [
      "2.4.0\n"
     ]
    }
   ],
   "source": [
    "import torch\n",
    "print(torch.__version__)\n"
   ]
  },
  {
   "cell_type": "code",
   "execution_count": 13,
   "id": "52d7b69e",
   "metadata": {},
   "outputs": [],
   "source": [
    "import numpy as np\n",
    "import pandas as pd\n",
    "import matplotlib.pyplot as plt\n",
    "import torch\n",
    "\n",
    "from torch.utils.data import Dataset, DataLoader"
   ]
  },
  {
   "cell_type": "code",
   "execution_count": 15,
   "id": "00ba261d",
   "metadata": {},
   "outputs": [],
   "source": [
    "from sklearn.metrics import confusion_matrix, accuracy_score\n",
    "import cv2"
   ]
  },
  {
   "cell_type": "markdown",
   "id": "f0c2cff9",
   "metadata": {},
   "source": [
    "# Load the Data set"
   ]
  },
  {
   "cell_type": "markdown",
   "id": "7803f495",
   "metadata": {},
   "source": [
    "Data set link is: https://www.kaggle.com/datasets/navoneel/brain-mri-images-for-brain-tumor-detection?resource=download"
   ]
  },
  {
   "cell_type": "code",
   "execution_count": null,
   "id": "806f2f13",
   "metadata": {},
   "outputs": [],
   "source": []
  }
 ],
 "metadata": {
  "kernelspec": {
   "display_name": "Python 3 (ipykernel)",
   "language": "python",
   "name": "python3"
  },
  "language_info": {
   "codemirror_mode": {
    "name": "ipython",
    "version": 3
   },
   "file_extension": ".py",
   "mimetype": "text/x-python",
   "name": "python",
   "nbconvert_exporter": "python",
   "pygments_lexer": "ipython3",
   "version": "3.11.4"
  }
 },
 "nbformat": 4,
 "nbformat_minor": 5
}
